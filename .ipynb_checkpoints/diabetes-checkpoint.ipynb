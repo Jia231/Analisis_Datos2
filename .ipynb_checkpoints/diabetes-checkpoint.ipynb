{
 "cells": [
  {
   "cell_type": "markdown",
   "id": "c476002b-171e-408c-aeeb-0840b0094034",
   "metadata": {},
   "source": [
    "<h1>Diabetes</h1>"
   ]
  },
  {
   "cell_type": "code",
   "execution_count": null,
   "id": "1cc9e8e8-fb5e-43f0-a99b-c4aa4faa9996",
   "metadata": {},
   "outputs": [],
   "source": [
    "#columns\n",
    "# 0. Number of times pregnant.\n",
    "# 1. Plasma glucose concentration a 2 hours in an oral glucose tolerance test.\n",
    "# 2. Diastolic blood pressure (mm Hg).\n",
    "# 3. Triceps skinfold thickness (mm).\n",
    "# 4. 2-Hour serum insulin (mu U/ml).\n",
    "# 5. Body mass index (weight in kg/(height in m)^2).\n",
    "# 6. Diabetes pedigree function.\n",
    "# 7. Age (years).\n",
    "# 8. Class variable (0 or 1)."
   ]
  }
 ],
 "metadata": {
  "kernelspec": {
   "display_name": "Python 3 (ipykernel)",
   "language": "python",
   "name": "python3"
  },
  "language_info": {
   "codemirror_mode": {
    "name": "ipython",
    "version": 3
   },
   "file_extension": ".py",
   "mimetype": "text/x-python",
   "name": "python",
   "nbconvert_exporter": "python",
   "pygments_lexer": "ipython3",
   "version": "3.12.9"
  }
 },
 "nbformat": 4,
 "nbformat_minor": 5
}

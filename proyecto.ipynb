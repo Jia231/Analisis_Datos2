{
 "cells": [
  {
   "cell_type": "markdown",
   "id": "9e4e03d3-75c8-4a33-89bf-40e36c7dd3e7",
   "metadata": {},
   "source": [
    "<h1>Proyecto Analisis de Datos</h1>"
   ]
  },
  {
   "cell_type": "markdown",
   "id": "9741767f-efda-40f0-b112-2e8207aceeb8",
   "metadata": {},
   "source": [
    "<a href=\"https://github.com/Jzuniga1986/ProyectoDA\">Link al proyecto</a>"
   ]
  },
  {
   "cell_type": "code",
   "execution_count": null,
   "id": "b5abc1cc-9d77-4a65-8ef9-ef8b2d73870e",
   "metadata": {},
   "outputs": [],
   "source": []
  }
 ],
 "metadata": {
  "kernelspec": {
   "display_name": "Python 3 (ipykernel)",
   "language": "python",
   "name": "python3"
  },
  "language_info": {
   "codemirror_mode": {
    "name": "ipython",
    "version": 3
   },
   "file_extension": ".py",
   "mimetype": "text/x-python",
   "name": "python",
   "nbconvert_exporter": "python",
   "pygments_lexer": "ipython3",
   "version": "3.12.9"
  }
 },
 "nbformat": 4,
 "nbformat_minor": 5
}
